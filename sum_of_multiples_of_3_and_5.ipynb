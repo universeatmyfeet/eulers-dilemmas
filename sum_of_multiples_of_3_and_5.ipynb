{
  "nbformat": 4,
  "nbformat_minor": 0,
  "metadata": {
    "colab": {
      "name": "sum of multiples of 3 and 5 .ipynb",
      "provenance": [],
      "collapsed_sections": [],
      "include_colab_link": true
    },
    "kernelspec": {
      "name": "python3",
      "display_name": "Python 3"
    }
  },
  "cells": [
    {
      "cell_type": "markdown",
      "metadata": {
        "id": "view-in-github",
        "colab_type": "text"
      },
      "source": [
        "<a href=\"https://colab.research.google.com/github/universeatmyfeet/eulers-dilemmas/blob/master/sum_of_multiples_of_3_and_5.ipynb\" target=\"_parent\"><img src=\"https://colab.research.google.com/assets/colab-badge.svg\" alt=\"Open In Colab\"/></a>"
      ]
    },
    {
      "cell_type": "code",
      "metadata": {
        "id": "Pv_-AYLHD_Wm",
        "colab_type": "code",
        "colab": {}
      },
      "source": [
        "import time"
      ],
      "execution_count": 0,
      "outputs": []
    },
    {
      "cell_type": "code",
      "metadata": {
        "id": "2HlWu6c5EIKe",
        "colab_type": "code",
        "colab": {}
      },
      "source": [
        "#1rst approach : "
      ],
      "execution_count": 0,
      "outputs": []
    },
    {
      "cell_type": "code",
      "metadata": {
        "id": "DZd94PcpDtZ2",
        "colab_type": "code",
        "colab": {}
      },
      "source": [
        "start = time.time()"
      ],
      "execution_count": 0,
      "outputs": []
    },
    {
      "cell_type": "code",
      "metadata": {
        "id": "69JfJB7V6PZp",
        "colab_type": "code",
        "colab": {}
      },
      "source": [
        "def sum_of_multiples(x = 100):\n",
        "  sum = 0\n",
        "  for i in range(0,x):\n",
        "    if i % 3 == 0 or i % 5 ==0:\n",
        "      sum += i\n",
        "  return sum  \n"
      ],
      "execution_count": 0,
      "outputs": []
    },
    {
      "cell_type": "code",
      "metadata": {
        "id": "4xQKoHthBV6g",
        "colab_type": "code",
        "colab": {
          "base_uri": "https://localhost:8080/",
          "height": 34
        },
        "outputId": "95be8d6e-7a9c-47e9-ccb3-80377b1543fe"
      },
      "source": [
        "sum_of_multiples(100000000)"
      ],
      "execution_count": 31,
      "outputs": [
        {
          "output_type": "execute_result",
          "data": {
            "text/plain": [
              "2333333316666668"
            ]
          },
          "metadata": {
            "tags": []
          },
          "execution_count": 31
        }
      ]
    },
    {
      "cell_type": "code",
      "metadata": {
        "id": "DjKiSF2oD2FT",
        "colab_type": "code",
        "colab": {}
      },
      "source": [
        "end = time.time()"
      ],
      "execution_count": 0,
      "outputs": []
    },
    {
      "cell_type": "code",
      "metadata": {
        "id": "jc8LSjbsBax4",
        "colab_type": "code",
        "colab": {
          "base_uri": "https://localhost:8080/",
          "height": 34
        },
        "outputId": "ae7777e4-3c4f-4328-cbe1-530b8c78e5f1"
      },
      "source": [
        "print(f\"Runtime of the program is {end - start}\")"
      ],
      "execution_count": 33,
      "outputs": [
        {
          "output_type": "stream",
          "text": [
            "Runtime of the program is 10.164189577102661\n"
          ],
          "name": "stdout"
        }
      ]
    },
    {
      "cell_type": "code",
      "metadata": {
        "id": "su4WnrUqEMGz",
        "colab_type": "code",
        "colab": {}
      },
      "source": [
        "#2nd approach:"
      ],
      "execution_count": 0,
      "outputs": []
    },
    {
      "cell_type": "code",
      "metadata": {
        "id": "9nW7lDdfD-Xb",
        "colab_type": "code",
        "colab": {}
      },
      "source": [
        "start = time.time()"
      ],
      "execution_count": 0,
      "outputs": []
    },
    {
      "cell_type": "code",
      "metadata": {
        "id": "wwWHE-YwEQgk",
        "colab_type": "code",
        "colab": {}
      },
      "source": [
        "sum =0\n",
        "\n",
        "def sumdivisibleby(p,number):\n",
        "  p = int((p-1)/number)\n",
        "  sum = (number*p*(p+1))/2\n",
        "  return sum\n",
        "\n",
        "def result(target=1000):\n",
        "  sol = sumdivisibleby(target,3)+sumdivisibleby(target,5)-sumdivisibleby(target,15)\n",
        "  return sol"
      ],
      "execution_count": 0,
      "outputs": []
    },
    {
      "cell_type": "code",
      "metadata": {
        "id": "AfrMGrYuGrPp",
        "colab_type": "code",
        "colab": {
          "base_uri": "https://localhost:8080/",
          "height": 34
        },
        "outputId": "0325b45e-6839-44d4-f37f-e648ac02efaf"
      },
      "source": [
        "result(100000000)"
      ],
      "execution_count": 37,
      "outputs": [
        {
          "output_type": "execute_result",
          "data": {
            "text/plain": [
              "2333333316666668.0"
            ]
          },
          "metadata": {
            "tags": []
          },
          "execution_count": 37
        }
      ]
    },
    {
      "cell_type": "code",
      "metadata": {
        "id": "YZgCnXqSG7nz",
        "colab_type": "code",
        "colab": {}
      },
      "source": [
        "end = time.time()"
      ],
      "execution_count": 0,
      "outputs": []
    },
    {
      "cell_type": "code",
      "metadata": {
        "id": "0PcilM67HgD_",
        "colab_type": "code",
        "colab": {
          "base_uri": "https://localhost:8080/",
          "height": 34
        },
        "outputId": "1372b305-d42e-48ac-d6fe-efdaab995c1e"
      },
      "source": [
        "print(f\"Runtime of the program is {end - start}\")"
      ],
      "execution_count": 39,
      "outputs": [
        {
          "output_type": "stream",
          "text": [
            "Runtime of the program is 0.03306937217712402\n"
          ],
          "name": "stdout"
        }
      ]
    }
  ]
}